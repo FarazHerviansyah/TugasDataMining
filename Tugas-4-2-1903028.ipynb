{
 "cells": [
  {
   "cell_type": "code",
   "execution_count": null,
   "metadata": {
    "id": "cEOyXB4Ynkd8",
    "outputId": "685a2c48-3d8d-4821-df08-dd29b8a3ef29"
   },
   "outputs": [
    {
     "data": {
      "text/html": [
       "<div>\n",
       "<style scoped>\n",
       "    .dataframe tbody tr th:only-of-type {\n",
       "        vertical-align: middle;\n",
       "    }\n",
       "\n",
       "    .dataframe tbody tr th {\n",
       "        vertical-align: top;\n",
       "    }\n",
       "\n",
       "    .dataframe thead th {\n",
       "        text-align: right;\n",
       "    }\n",
       "</style>\n",
       "<table border=\"1\" class=\"dataframe\">\n",
       "  <thead>\n",
       "    <tr style=\"text-align: right;\">\n",
       "      <th></th>\n",
       "      <th>Date</th>\n",
       "      <th>Time</th>\n",
       "      <th>CustomerID</th>\n",
       "      <th>CardID</th>\n",
       "      <th>GasStationID</th>\n",
       "      <th>ProductID</th>\n",
       "      <th>Amount</th>\n",
       "      <th>Price</th>\n",
       "    </tr>\n",
       "  </thead>\n",
       "  <tbody>\n",
       "    <tr>\n",
       "      <th>0</th>\n",
       "      <td>2012-01-01</td>\n",
       "      <td>00:18:00</td>\n",
       "      <td>41113</td>\n",
       "      <td>645177</td>\n",
       "      <td>363</td>\n",
       "      <td>2</td>\n",
       "      <td>93.7500</td>\n",
       "      <td>2038.5750</td>\n",
       "    </tr>\n",
       "    <tr>\n",
       "      <th>1</th>\n",
       "      <td>2012-01-01</td>\n",
       "      <td>02:05:00</td>\n",
       "      <td>30766</td>\n",
       "      <td>496967</td>\n",
       "      <td>1083</td>\n",
       "      <td>2</td>\n",
       "      <td>132.1000</td>\n",
       "      <td>3002.6920</td>\n",
       "    </tr>\n",
       "    <tr>\n",
       "      <th>2</th>\n",
       "      <td>2012-01-01</td>\n",
       "      <td>00:27:00</td>\n",
       "      <td>31576</td>\n",
       "      <td>618868</td>\n",
       "      <td>109</td>\n",
       "      <td>5</td>\n",
       "      <td>21.3500</td>\n",
       "      <td>462.9240</td>\n",
       "    </tr>\n",
       "    <tr>\n",
       "      <th>3</th>\n",
       "      <td>2012-01-01</td>\n",
       "      <td>06:56:00</td>\n",
       "      <td>3800</td>\n",
       "      <td>598481</td>\n",
       "      <td>5298</td>\n",
       "      <td>322</td>\n",
       "      <td>52.5000</td>\n",
       "      <td>47.0239</td>\n",
       "    </tr>\n",
       "    <tr>\n",
       "      <th>4</th>\n",
       "      <td>2012-01-01</td>\n",
       "      <td>05:46:00</td>\n",
       "      <td>3493</td>\n",
       "      <td>34405</td>\n",
       "      <td>5163</td>\n",
       "      <td>317</td>\n",
       "      <td>70.0000</td>\n",
       "      <td>61.8310</td>\n",
       "    </tr>\n",
       "    <tr>\n",
       "      <th>...</th>\n",
       "      <td>...</td>\n",
       "      <td>...</td>\n",
       "      <td>...</td>\n",
       "      <td>...</td>\n",
       "      <td>...</td>\n",
       "      <td>...</td>\n",
       "      <td>...</td>\n",
       "      <td>...</td>\n",
       "    </tr>\n",
       "    <tr>\n",
       "      <th>84</th>\n",
       "      <td>2012-01-01</td>\n",
       "      <td>12:16:00</td>\n",
       "      <td>26960</td>\n",
       "      <td>503183</td>\n",
       "      <td>145</td>\n",
       "      <td>5</td>\n",
       "      <td>18.4750</td>\n",
       "      <td>392.6230</td>\n",
       "    </tr>\n",
       "    <tr>\n",
       "      <th>85</th>\n",
       "      <td>2012-01-01</td>\n",
       "      <td>07:27:00</td>\n",
       "      <td>40258</td>\n",
       "      <td>442921</td>\n",
       "      <td>3501</td>\n",
       "      <td>2</td>\n",
       "      <td>50.0000</td>\n",
       "      <td>1121.1200</td>\n",
       "    </tr>\n",
       "    <tr>\n",
       "      <th>86</th>\n",
       "      <td>2012-01-01</td>\n",
       "      <td>10:05:00</td>\n",
       "      <td>22752</td>\n",
       "      <td>590089</td>\n",
       "      <td>3419</td>\n",
       "      <td>5</td>\n",
       "      <td>66.2500</td>\n",
       "      <td>1436.5120</td>\n",
       "    </tr>\n",
       "    <tr>\n",
       "      <th>87</th>\n",
       "      <td>2012-01-01</td>\n",
       "      <td>11:58:00</td>\n",
       "      <td>11597</td>\n",
       "      <td>141185</td>\n",
       "      <td>2965</td>\n",
       "      <td>5</td>\n",
       "      <td>50.0375</td>\n",
       "      <td>1075.6900</td>\n",
       "    </tr>\n",
       "    <tr>\n",
       "      <th>88</th>\n",
       "      <td>2012-01-01</td>\n",
       "      <td>11:58:00</td>\n",
       "      <td>11597</td>\n",
       "      <td>141185</td>\n",
       "      <td>2965</td>\n",
       "      <td>11</td>\n",
       "      <td>0.8600</td>\n",
       "      <td>121.9300</td>\n",
       "    </tr>\n",
       "  </tbody>\n",
       "</table>\n",
       "<p>89 rows × 8 columns</p>\n",
       "</div>"
      ],
      "text/plain": [
       "          Date      Time  CustomerID  CardID  GasStationID  ProductID  \\\n",
       "0   2012-01-01  00:18:00       41113  645177           363          2   \n",
       "1   2012-01-01  02:05:00       30766  496967          1083          2   \n",
       "2   2012-01-01  00:27:00       31576  618868           109          5   \n",
       "3   2012-01-01  06:56:00        3800  598481          5298        322   \n",
       "4   2012-01-01  05:46:00        3493   34405          5163        317   \n",
       "..         ...       ...         ...     ...           ...        ...   \n",
       "84  2012-01-01  12:16:00       26960  503183           145          5   \n",
       "85  2012-01-01  07:27:00       40258  442921          3501          2   \n",
       "86  2012-01-01  10:05:00       22752  590089          3419          5   \n",
       "87  2012-01-01  11:58:00       11597  141185          2965          5   \n",
       "88  2012-01-01  11:58:00       11597  141185          2965         11   \n",
       "\n",
       "      Amount      Price  \n",
       "0    93.7500  2038.5750  \n",
       "1   132.1000  3002.6920  \n",
       "2    21.3500   462.9240  \n",
       "3    52.5000    47.0239  \n",
       "4    70.0000    61.8310  \n",
       "..       ...        ...  \n",
       "84   18.4750   392.6230  \n",
       "85   50.0000  1121.1200  \n",
       "86   66.2500  1436.5120  \n",
       "87   50.0375  1075.6900  \n",
       "88    0.8600   121.9300  \n",
       "\n",
       "[89 rows x 8 columns]"
      ]
     },
     "execution_count": 1,
     "metadata": {},
     "output_type": "execute_result"
    }
   ],
   "source": [
    "import pandas as pd\n",
    "import numpy as np\n",
    "import matplotlib.pyplot as plt\n",
    "df_spl = pd.read_csv(\"sample.csv\")\n",
    "df_spl"
   ]
  },
  {
   "cell_type": "code",
   "execution_count": null,
   "metadata": {
    "id": "raawpDionkeH",
    "outputId": "a45f1d5e-799c-47a9-b852-a055207cb698"
   },
   "outputs": [
    {
     "data": {
      "text/html": [
       "<div>\n",
       "<style scoped>\n",
       "    .dataframe tbody tr th:only-of-type {\n",
       "        vertical-align: middle;\n",
       "    }\n",
       "\n",
       "    .dataframe tbody tr th {\n",
       "        vertical-align: top;\n",
       "    }\n",
       "\n",
       "    .dataframe thead th {\n",
       "        text-align: right;\n",
       "    }\n",
       "</style>\n",
       "<table border=\"1\" class=\"dataframe\">\n",
       "  <thead>\n",
       "    <tr style=\"text-align: right;\">\n",
       "      <th></th>\n",
       "      <th>CustomerID</th>\n",
       "      <th>Segment</th>\n",
       "      <th>Currency</th>\n",
       "    </tr>\n",
       "  </thead>\n",
       "  <tbody>\n",
       "    <tr>\n",
       "      <th>0</th>\n",
       "      <td>10</td>\n",
       "      <td>LAM</td>\n",
       "      <td>EUR</td>\n",
       "    </tr>\n",
       "    <tr>\n",
       "      <th>1</th>\n",
       "      <td>100</td>\n",
       "      <td>LAM</td>\n",
       "      <td>EUR</td>\n",
       "    </tr>\n",
       "    <tr>\n",
       "      <th>2</th>\n",
       "      <td>1000</td>\n",
       "      <td>KAM</td>\n",
       "      <td>CZK</td>\n",
       "    </tr>\n",
       "    <tr>\n",
       "      <th>3</th>\n",
       "      <td>10000</td>\n",
       "      <td>SME</td>\n",
       "      <td>CZK</td>\n",
       "    </tr>\n",
       "    <tr>\n",
       "      <th>4</th>\n",
       "      <td>10001</td>\n",
       "      <td>SME</td>\n",
       "      <td>CZK</td>\n",
       "    </tr>\n",
       "    <tr>\n",
       "      <th>...</th>\n",
       "      <td>...</td>\n",
       "      <td>...</td>\n",
       "      <td>...</td>\n",
       "    </tr>\n",
       "    <tr>\n",
       "      <th>52994</th>\n",
       "      <td>9995</td>\n",
       "      <td>SME</td>\n",
       "      <td>CZK</td>\n",
       "    </tr>\n",
       "    <tr>\n",
       "      <th>52995</th>\n",
       "      <td>9996</td>\n",
       "      <td>SME</td>\n",
       "      <td>CZK</td>\n",
       "    </tr>\n",
       "    <tr>\n",
       "      <th>52996</th>\n",
       "      <td>9997</td>\n",
       "      <td>SME</td>\n",
       "      <td>CZK</td>\n",
       "    </tr>\n",
       "    <tr>\n",
       "      <th>52997</th>\n",
       "      <td>9998</td>\n",
       "      <td>SME</td>\n",
       "      <td>CZK</td>\n",
       "    </tr>\n",
       "    <tr>\n",
       "      <th>52998</th>\n",
       "      <td>9999</td>\n",
       "      <td>SME</td>\n",
       "      <td>CZK</td>\n",
       "    </tr>\n",
       "  </tbody>\n",
       "</table>\n",
       "<p>52999 rows × 3 columns</p>\n",
       "</div>"
      ],
      "text/plain": [
       "       CustomerID Segment Currency\n",
       "0              10     LAM      EUR\n",
       "1             100     LAM      EUR\n",
       "2            1000     KAM      CZK\n",
       "3           10000     SME      CZK\n",
       "4           10001     SME      CZK\n",
       "...           ...     ...      ...\n",
       "52994        9995     SME      CZK\n",
       "52995        9996     SME      CZK\n",
       "52996        9997     SME      CZK\n",
       "52997        9998     SME      CZK\n",
       "52998        9999     SME      CZK\n",
       "\n",
       "[52999 rows x 3 columns]"
      ]
     },
     "execution_count": 7,
     "metadata": {},
     "output_type": "execute_result"
    }
   ],
   "source": [
    "df_csm = pd.read_csv(\"customers.csv\")\n",
    "df_csm"
   ]
  },
  {
   "cell_type": "code",
   "execution_count": null,
   "metadata": {
    "id": "EHZJ-W2_nkeL",
    "outputId": "cb78a0d8-4839-438f-f618-378ba85abcb5"
   },
   "outputs": [
    {
     "data": {
      "text/html": [
       "<div>\n",
       "<style scoped>\n",
       "    .dataframe tbody tr th:only-of-type {\n",
       "        vertical-align: middle;\n",
       "    }\n",
       "\n",
       "    .dataframe tbody tr th {\n",
       "        vertical-align: top;\n",
       "    }\n",
       "\n",
       "    .dataframe thead th {\n",
       "        text-align: right;\n",
       "    }\n",
       "</style>\n",
       "<table border=\"1\" class=\"dataframe\">\n",
       "  <thead>\n",
       "    <tr style=\"text-align: right;\">\n",
       "      <th></th>\n",
       "      <th>SiteID</th>\n",
       "      <th>chainID</th>\n",
       "      <th>Country</th>\n",
       "      <th>Segment</th>\n",
       "    </tr>\n",
       "  </thead>\n",
       "  <tbody>\n",
       "    <tr>\n",
       "      <th>0</th>\n",
       "      <td>100</td>\n",
       "      <td>10</td>\n",
       "      <td>CZE</td>\n",
       "      <td>Other</td>\n",
       "    </tr>\n",
       "    <tr>\n",
       "      <th>1</th>\n",
       "      <td>1000</td>\n",
       "      <td>1</td>\n",
       "      <td>CZE</td>\n",
       "      <td>Premium</td>\n",
       "    </tr>\n",
       "    <tr>\n",
       "      <th>2</th>\n",
       "      <td>1001</td>\n",
       "      <td>8</td>\n",
       "      <td>CZE</td>\n",
       "      <td>Value for money</td>\n",
       "    </tr>\n",
       "    <tr>\n",
       "      <th>3</th>\n",
       "      <td>1002</td>\n",
       "      <td>24</td>\n",
       "      <td>CZE</td>\n",
       "      <td>Discount</td>\n",
       "    </tr>\n",
       "    <tr>\n",
       "      <th>4</th>\n",
       "      <td>1003</td>\n",
       "      <td>13</td>\n",
       "      <td>CZE</td>\n",
       "      <td>Value for money</td>\n",
       "    </tr>\n",
       "    <tr>\n",
       "      <th>...</th>\n",
       "      <td>...</td>\n",
       "      <td>...</td>\n",
       "      <td>...</td>\n",
       "      <td>...</td>\n",
       "    </tr>\n",
       "    <tr>\n",
       "      <th>5711</th>\n",
       "      <td>995</td>\n",
       "      <td>1</td>\n",
       "      <td>CZE</td>\n",
       "      <td>Premium</td>\n",
       "    </tr>\n",
       "    <tr>\n",
       "      <th>5712</th>\n",
       "      <td>996</td>\n",
       "      <td>1</td>\n",
       "      <td>CZE</td>\n",
       "      <td>Premium</td>\n",
       "    </tr>\n",
       "    <tr>\n",
       "      <th>5713</th>\n",
       "      <td>997</td>\n",
       "      <td>2</td>\n",
       "      <td>CZE</td>\n",
       "      <td>Noname</td>\n",
       "    </tr>\n",
       "    <tr>\n",
       "      <th>5714</th>\n",
       "      <td>998</td>\n",
       "      <td>6</td>\n",
       "      <td>CZE</td>\n",
       "      <td>Premium</td>\n",
       "    </tr>\n",
       "    <tr>\n",
       "      <th>5715</th>\n",
       "      <td>999</td>\n",
       "      <td>1</td>\n",
       "      <td>CZE</td>\n",
       "      <td>Premium</td>\n",
       "    </tr>\n",
       "  </tbody>\n",
       "</table>\n",
       "<p>5716 rows × 4 columns</p>\n",
       "</div>"
      ],
      "text/plain": [
       "      SiteID  chainID Country          Segment\n",
       "0        100       10     CZE            Other\n",
       "1       1000        1     CZE          Premium\n",
       "2       1001        8     CZE  Value for money\n",
       "3       1002       24     CZE         Discount\n",
       "4       1003       13     CZE  Value for money\n",
       "...      ...      ...     ...              ...\n",
       "5711     995        1     CZE          Premium\n",
       "5712     996        1     CZE          Premium\n",
       "5713     997        2     CZE           Noname\n",
       "5714     998        6     CZE          Premium\n",
       "5715     999        1     CZE          Premium\n",
       "\n",
       "[5716 rows x 4 columns]"
      ]
     },
     "execution_count": 8,
     "metadata": {},
     "output_type": "execute_result"
    }
   ],
   "source": [
    "df_gas = pd.read_csv(\"gasstations.csv\")\n",
    "df_gas"
   ]
  },
  {
   "cell_type": "code",
   "execution_count": null,
   "metadata": {
    "id": "WmJvVJcWnkeM",
    "outputId": "9cf2cde9-4857-4437-c0b6-51bfadb24d88"
   },
   "outputs": [
    {
     "data": {
      "text/html": [
       "<div>\n",
       "<style scoped>\n",
       "    .dataframe tbody tr th:only-of-type {\n",
       "        vertical-align: middle;\n",
       "    }\n",
       "\n",
       "    .dataframe tbody tr th {\n",
       "        vertical-align: top;\n",
       "    }\n",
       "\n",
       "    .dataframe thead th {\n",
       "        text-align: right;\n",
       "    }\n",
       "</style>\n",
       "<table border=\"1\" class=\"dataframe\">\n",
       "  <thead>\n",
       "    <tr style=\"text-align: right;\">\n",
       "      <th></th>\n",
       "      <th>ProductID</th>\n",
       "      <th>Description</th>\n",
       "    </tr>\n",
       "  </thead>\n",
       "  <tbody>\n",
       "    <tr>\n",
       "      <th>0</th>\n",
       "      <td>1</td>\n",
       "      <td>Rucní zadání</td>\n",
       "    </tr>\n",
       "    <tr>\n",
       "      <th>1</th>\n",
       "      <td>10</td>\n",
       "      <td>Mazadla/Tuky</td>\n",
       "    </tr>\n",
       "    <tr>\n",
       "      <th>2</th>\n",
       "      <td>100</td>\n",
       "      <td>Membership-fee Consorcio</td>\n",
       "    </tr>\n",
       "    <tr>\n",
       "      <th>3</th>\n",
       "      <td>101</td>\n",
       "      <td>Diesel</td>\n",
       "    </tr>\n",
       "    <tr>\n",
       "      <th>4</th>\n",
       "      <td>102</td>\n",
       "      <td>Biodiesel</td>\n",
       "    </tr>\n",
       "    <tr>\n",
       "      <th>...</th>\n",
       "      <td>...</td>\n",
       "      <td>...</td>\n",
       "    </tr>\n",
       "    <tr>\n",
       "      <th>586</th>\n",
       "      <td>95</td>\n",
       "      <td>Service charge</td>\n",
       "    </tr>\n",
       "    <tr>\n",
       "      <th>587</th>\n",
       "      <td>96</td>\n",
       "      <td>Service charge</td>\n",
       "    </tr>\n",
       "    <tr>\n",
       "      <th>588</th>\n",
       "      <td>97</td>\n",
       "      <td>Service charge</td>\n",
       "    </tr>\n",
       "    <tr>\n",
       "      <th>589</th>\n",
       "      <td>98</td>\n",
       "      <td>Fee for payment transaction</td>\n",
       "    </tr>\n",
       "    <tr>\n",
       "      <th>590</th>\n",
       "      <td>99</td>\n",
       "      <td>Fee for bank charges</td>\n",
       "    </tr>\n",
       "  </tbody>\n",
       "</table>\n",
       "<p>591 rows × 2 columns</p>\n",
       "</div>"
      ],
      "text/plain": [
       "     ProductID                  Description\n",
       "0            1                 Rucní zadání\n",
       "1           10                 Mazadla/Tuky\n",
       "2          100     Membership-fee Consorcio\n",
       "3          101                       Diesel\n",
       "4          102                    Biodiesel\n",
       "..         ...                          ...\n",
       "586         95               Service charge\n",
       "587         96               Service charge\n",
       "588         97               Service charge\n",
       "589         98  Fee for payment transaction\n",
       "590         99         Fee for bank charges\n",
       "\n",
       "[591 rows x 2 columns]"
      ]
     },
     "execution_count": 9,
     "metadata": {},
     "output_type": "execute_result"
    }
   ],
   "source": [
    "df_pdc = pd.read_csv(\"products.csv\")\n",
    "df_pdc"
   ]
  },
  {
   "cell_type": "code",
   "execution_count": null,
   "metadata": {
    "id": "MYwXeavUnkeN",
    "outputId": "30a647ec-3871-4409-d00e-52ef7021dc7f"
   },
   "outputs": [
    {
     "data": {
      "text/plain": [
       "<matplotlib.collections.PathCollection at 0x232a5eef970>"
      ]
     },
     "execution_count": 38,
     "metadata": {},
     "output_type": "execute_result"
    },
    {
     "data": {
      "image/png": "[encoded data removed]",
      "text/plain": [
       "<Figure size 432x288 with 1 Axes>"
      ]
     },
     "metadata": {
      "needs_background": "light"
     },
     "output_type": "display_data"
    }
   ],
   "source": [
    "plt.scatter(df_spl.CustomerID, df_spl.Amount)"
   ]
  },
  {
   "cell_type": "code",
   "execution_count": null,
   "metadata": {
    "id": "h7b7soRpnkeO",
    "outputId": "3b069bd7-cde0-452f-c206-05cb2f635a8b"
   },
   "outputs": [
    {
     "data": {
      "text/html": [
       "<div>\n",
       "<style scoped>\n",
       "    .dataframe tbody tr th:only-of-type {\n",
       "        vertical-align: middle;\n",
       "    }\n",
       "\n",
       "    .dataframe tbody tr th {\n",
       "        vertical-align: top;\n",
       "    }\n",
       "\n",
       "    .dataframe thead th {\n",
       "        text-align: right;\n",
       "    }\n",
       "</style>\n",
       "<table border=\"1\" class=\"dataframe\">\n",
       "  <thead>\n",
       "    <tr style=\"text-align: right;\">\n",
       "      <th></th>\n",
       "      <th>Date</th>\n",
       "      <th>Time</th>\n",
       "      <th>CustomerID</th>\n",
       "      <th>CardID</th>\n",
       "      <th>GasStationID</th>\n",
       "      <th>ProductID</th>\n",
       "      <th>Amount</th>\n",
       "      <th>Price</th>\n",
       "    </tr>\n",
       "  </thead>\n",
       "  <tbody>\n",
       "    <tr>\n",
       "      <th>14</th>\n",
       "      <td>2012-01-01</td>\n",
       "      <td>07:18:00</td>\n",
       "      <td>6769</td>\n",
       "      <td>630364</td>\n",
       "      <td>405</td>\n",
       "      <td>2</td>\n",
       "      <td>231.2750</td>\n",
       "      <td>5014.7790</td>\n",
       "    </tr>\n",
       "    <tr>\n",
       "      <th>70</th>\n",
       "      <td>2012-01-01</td>\n",
       "      <td>09:53:00</td>\n",
       "      <td>15470</td>\n",
       "      <td>564867</td>\n",
       "      <td>2367</td>\n",
       "      <td>2</td>\n",
       "      <td>150.1375</td>\n",
       "      <td>3320.1630</td>\n",
       "    </tr>\n",
       "    <tr>\n",
       "      <th>1</th>\n",
       "      <td>2012-01-01</td>\n",
       "      <td>02:05:00</td>\n",
       "      <td>30766</td>\n",
       "      <td>496967</td>\n",
       "      <td>1083</td>\n",
       "      <td>2</td>\n",
       "      <td>132.1000</td>\n",
       "      <td>3002.6920</td>\n",
       "    </tr>\n",
       "    <tr>\n",
       "      <th>30</th>\n",
       "      <td>2012-01-01</td>\n",
       "      <td>04:40:00</td>\n",
       "      <td>7196</td>\n",
       "      <td>450683</td>\n",
       "      <td>3333</td>\n",
       "      <td>2</td>\n",
       "      <td>130.7750</td>\n",
       "      <td>2892.0045</td>\n",
       "    </tr>\n",
       "    <tr>\n",
       "      <th>17</th>\n",
       "      <td>2012-01-01</td>\n",
       "      <td>08:13:00</td>\n",
       "      <td>9606</td>\n",
       "      <td>579038</td>\n",
       "      <td>4356</td>\n",
       "      <td>2</td>\n",
       "      <td>100.0000</td>\n",
       "      <td>2236.0800</td>\n",
       "    </tr>\n",
       "  </tbody>\n",
       "</table>\n",
       "</div>"
      ],
      "text/plain": [
       "          Date      Time  CustomerID  CardID  GasStationID  ProductID  \\\n",
       "14  2012-01-01  07:18:00        6769  630364           405          2   \n",
       "70  2012-01-01  09:53:00       15470  564867          2367          2   \n",
       "1   2012-01-01  02:05:00       30766  496967          1083          2   \n",
       "30  2012-01-01  04:40:00        7196  450683          3333          2   \n",
       "17  2012-01-01  08:13:00        9606  579038          4356          2   \n",
       "\n",
       "      Amount      Price  \n",
       "14  231.2750  5014.7790  \n",
       "70  150.1375  3320.1630  \n",
       "1   132.1000  3002.6920  \n",
       "30  130.7750  2892.0045  \n",
       "17  100.0000  2236.0800  "
      ]
     },
     "execution_count": 25,
     "metadata": {},
     "output_type": "execute_result"
    }
   ],
   "source": [
    "df_trs = df_spl.sort_values('Amount', ascending=False)\n",
    "df_trs.head()"
   ]
  },
  {
   "cell_type": "markdown",
   "metadata": {
    "id": "qv7Q9oXvomvM"
   },
   "source": [
    "# 1. Buatlah table list Top 5 Customers yang memiliki nilai transaksi paling banyak menggunakan dataframe pada python !"
   ]
  },
  {
   "cell_type": "code",
   "execution_count": null,
   "metadata": {
    "id": "wh__4ohpnkeP",
    "outputId": "4f654f9b-82ac-4ffb-d457-0704acb71883"
   },
   "outputs": [
    {
     "data": {
      "text/html": [
       "<div>\n",
       "<style scoped>\n",
       "    .dataframe tbody tr th:only-of-type {\n",
       "        vertical-align: middle;\n",
       "    }\n",
       "\n",
       "    .dataframe tbody tr th {\n",
       "        vertical-align: top;\n",
       "    }\n",
       "\n",
       "    .dataframe thead th {\n",
       "        text-align: right;\n",
       "    }\n",
       "</style>\n",
       "<table border=\"1\" class=\"dataframe\">\n",
       "  <thead>\n",
       "    <tr style=\"text-align: right;\">\n",
       "      <th></th>\n",
       "      <th>Customer ID</th>\n",
       "    </tr>\n",
       "  </thead>\n",
       "  <tbody>\n",
       "    <tr>\n",
       "      <th>1</th>\n",
       "      <td>6769</td>\n",
       "    </tr>\n",
       "    <tr>\n",
       "      <th>2</th>\n",
       "      <td>15470</td>\n",
       "    </tr>\n",
       "    <tr>\n",
       "      <th>3</th>\n",
       "      <td>30766</td>\n",
       "    </tr>\n",
       "    <tr>\n",
       "      <th>4</th>\n",
       "      <td>7196</td>\n",
       "    </tr>\n",
       "    <tr>\n",
       "      <th>5</th>\n",
       "      <td>9606</td>\n",
       "    </tr>\n",
       "  </tbody>\n",
       "</table>\n",
       "</div>"
      ],
      "text/plain": [
       "   Customer ID\n",
       "1         6769\n",
       "2        15470\n",
       "3        30766\n",
       "4         7196\n",
       "5         9606"
      ]
     },
     "execution_count": 39,
     "metadata": {},
     "output_type": "execute_result"
    }
   ],
   "source": [
    "df_trs_cust = pd.DataFrame({\"Customer ID\" : [6769, 15470, 30766, 7196, 9606]}, index = [1, 2, 3, 4, 5])\n",
    "df_trs_cust"
   ]
  },
  {
   "cell_type": "markdown",
   "metadata": {
    "id": "UesU3DT1odHU"
   },
   "source": [
    "# 2. Buatlah list Top 5 Gas stations yang memiliki nilai transaksi paling banyak menggunakan dataframe pada python!"
   ]
  },
  {
   "cell_type": "code",
   "execution_count": null,
   "metadata": {
    "id": "6j_ayi0knkeR",
    "outputId": "e3f803d2-5b2e-4bb0-dff5-1452ac14e5b2"
   },
   "outputs": [
    {
     "data": {
      "text/html": [
       "<div>\n",
       "<style scoped>\n",
       "    .dataframe tbody tr th:only-of-type {\n",
       "        vertical-align: middle;\n",
       "    }\n",
       "\n",
       "    .dataframe tbody tr th {\n",
       "        vertical-align: top;\n",
       "    }\n",
       "\n",
       "    .dataframe thead th {\n",
       "        text-align: right;\n",
       "    }\n",
       "</style>\n",
       "<table border=\"1\" class=\"dataframe\">\n",
       "  <thead>\n",
       "    <tr style=\"text-align: right;\">\n",
       "      <th></th>\n",
       "      <th>Gas Stations ID</th>\n",
       "    </tr>\n",
       "  </thead>\n",
       "  <tbody>\n",
       "    <tr>\n",
       "      <th>1</th>\n",
       "      <td>405</td>\n",
       "    </tr>\n",
       "    <tr>\n",
       "      <th>2</th>\n",
       "      <td>2367</td>\n",
       "    </tr>\n",
       "    <tr>\n",
       "      <th>3</th>\n",
       "      <td>1083</td>\n",
       "    </tr>\n",
       "    <tr>\n",
       "      <th>4</th>\n",
       "      <td>3333</td>\n",
       "    </tr>\n",
       "    <tr>\n",
       "      <th>5</th>\n",
       "      <td>4356</td>\n",
       "    </tr>\n",
       "  </tbody>\n",
       "</table>\n",
       "</div>"
      ],
      "text/plain": [
       "   Gas Stations ID\n",
       "1              405\n",
       "2             2367\n",
       "3             1083\n",
       "4             3333\n",
       "5             4356"
      ]
     },
     "execution_count": 37,
     "metadata": {},
     "output_type": "execute_result"
    }
   ],
   "source": [
    "df_trs_gas = pd.DataFrame({\"Gas Stations ID\" : [405, 2367, 1083, 3333, 4356]}, index = [1, 2, 3, 4, 5])\n",
    "df_trs_gas"
   ]
  },
  {
   "cell_type": "markdown",
   "metadata": {
    "id": "Fe5x9UFZoXGw"
   },
   "source": [
    "# 3. Buatlah list Top 5 Jenis produk yang memiliki nilai transaksi paling banyak menggunakan dataframe pada python!"
   ]
  },
  {
   "cell_type": "code",
   "execution_count": null,
   "metadata": {
    "id": "odgZobEOnkeS",
    "outputId": "a3479ecc-d865-47b3-d781-29ced51c110f"
   },
   "outputs": [
    {
     "data": {
      "text/html": [
       "<div>\n",
       "<style scoped>\n",
       "    .dataframe tbody tr th:only-of-type {\n",
       "        vertical-align: middle;\n",
       "    }\n",
       "\n",
       "    .dataframe tbody tr th {\n",
       "        vertical-align: top;\n",
       "    }\n",
       "\n",
       "    .dataframe thead th {\n",
       "        text-align: right;\n",
       "    }\n",
       "</style>\n",
       "<table border=\"1\" class=\"dataframe\">\n",
       "  <thead>\n",
       "    <tr style=\"text-align: right;\">\n",
       "      <th></th>\n",
       "      <th>Product ID</th>\n",
       "    </tr>\n",
       "  </thead>\n",
       "  <tbody>\n",
       "    <tr>\n",
       "      <th>1</th>\n",
       "      <td>2</td>\n",
       "    </tr>\n",
       "    <tr>\n",
       "      <th>2</th>\n",
       "      <td>329</td>\n",
       "    </tr>\n",
       "    <tr>\n",
       "      <th>3</th>\n",
       "      <td>317</td>\n",
       "    </tr>\n",
       "    <tr>\n",
       "      <th>4</th>\n",
       "      <td>29</td>\n",
       "    </tr>\n",
       "    <tr>\n",
       "      <th>5</th>\n",
       "      <td>5</td>\n",
       "    </tr>\n",
       "  </tbody>\n",
       "</table>\n",
       "</div>"
      ],
      "text/plain": [
       "   Product ID\n",
       "1           2\n",
       "2         329\n",
       "3         317\n",
       "4          29\n",
       "5           5"
      ]
     },
     "execution_count": 51,
     "metadata": {},
     "output_type": "execute_result"
    }
   ],
   "source": [
    "df_trs_pdc = pd.DataFrame({\"Product ID\" : [2, 329, 317, 29, 5]}, index = [1, 2, 3, 4, 5])\n",
    "df_trs_pdc"
   ]
  },
  {
   "cell_type": "markdown",
   "metadata": {
    "id": "SkQ5ir_zoTSB"
   },
   "source": [
    "# 4. Buatlah deskripsi statistik untuk masing masing hari (23,24,25,26) pada dataset transaction_1k!"
   ]
  },
  {
   "cell_type": "code",
   "execution_count": null,
   "metadata": {
    "id": "fGcDYWeKnkeU"
   },
   "outputs": [],
   "source": [
    "df_spl.describe(df_spl.iloc[22:25])"
   ]
  },
  {
   "cell_type": "markdown",
   "metadata": {
    "id": "fNMdN0dvoEPI"
   },
   "source": [
    "# 5. Carilah waktu terbaik (hari dan jam) dimana paling banyak user gas station melakukan transaksi !\n",
    "# di Jam 11.58 pada tanggal 1 Januari 2012"
   ]
  },
  {
   "cell_type": "code",
   "execution_count": null,
   "metadata": {
    "id": "TwdHBNxcnkeV",
    "outputId": "7e028f68-bf43-48b2-d446-b44467c19b76"
   },
   "outputs": [
    {
     "data": {
      "text/plain": [
       "[<matplotlib.lines.Line2D at 0x232a5c33220>]"
      ]
     },
     "execution_count": 76,
     "metadata": {},
     "output_type": "execute_result"
    },
    {
     "data": {
      "image/png": "[encoded data removed]",
      "text/plain": [
       "<Figure size 432x288 with 1 Axes>"
      ]
     },
     "metadata": {
      "needs_background": "light"
     },
     "output_type": "display_data"
    }
   ],
   "source": [
    "plt.plot(df_spl.Time, df_spl.CustomerID)"
   ]
  },
  {
   "cell_type": "code",
   "execution_count": null,
   "metadata": {
    "id": "xYyH1E45nkeW",
    "outputId": "4220a94a-26e0-478a-d077-d2b1e48a0397"
   },
   "outputs": [
    {
     "data": {
      "text/plain": [
       "[<matplotlib.lines.Line2D at 0x232a69e0790>]"
      ]
     },
     "execution_count": 75,
     "metadata": {},
     "output_type": "execute_result"
    },
    {
     "data": {
      "image/png": "[encoded data removed]",
      "text/plain": [
       "<Figure size 432x288 with 1 Axes>"
      ]
     },
     "metadata": {
      "needs_background": "light"
     },
     "output_type": "display_data"
    }
   ],
   "source": [
    "plt.plot(df_spl.Date, df_spl.CustomerID)"
   ]
  },
  {
   "cell_type": "markdown",
   "metadata": {
    "id": "9EEsaI4enpiK"
   },
   "source": [
    "# 6. Dari segi bisnis understanding, tujuan utama dari analisis data customer ini adalah?\n",
    "# tujuan dari data understanding yaitu untuk mengetahui karakteristik dari data dan apa yang ingin dianalisis."
   ]
  }
 ],
 "metadata": {
  "colab": {
   "collapsed_sections": [],
   "name": "Tugas-4-2-1905994.ipynb",
   "provenance": []
  },
  "kernelspec": {
   "display_name": "Python 3 (ipykernel)",
   "language": "python",
   "name": "python3"
  },
  "language_info": {
   "codemirror_mode": {
    "name": "ipython",
    "version": 3
   },
   "file_extension": ".py",
   "mimetype": "text/x-python",
   "name": "python",
   "nbconvert_exporter": "python",
   "pygments_lexer": "ipython3",
   "version": "3.9.7"
  }
 },
 "nbformat": 4,
 "nbformat_minor": 1
}

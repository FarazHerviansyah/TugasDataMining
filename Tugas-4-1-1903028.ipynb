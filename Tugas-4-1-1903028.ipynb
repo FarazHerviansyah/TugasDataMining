{
 "cells": [
  {
   "cell_type": "code",
   "execution_count": 2,
   "id": "310c8a6e",
   "metadata": {},
   "outputs": [
    {
     "name": "stdout",
     "output_type": "stream",
     "text": [
      "ref                                                         title                                              size  lastUpdated          downloadCount  voteCount  usabilityRating  \n",
      "----------------------------------------------------------  -------------------------------------------------  ----  -------------------  -------------  ---------  ---------------  \n",
      "ahmedterry/cristiano-ronald-vs-lionel-messi-weekly-updated  Cristiano Ronald Vs Lionel Messi -Weekly Updated   15KB  2021-01-06 23:46:32            186         13  0.4117647        \n",
      "pratikbarua/football-players                                Football players                                    7MB  2020-05-30 13:49:47             85          5  0.5625           \n"
     ]
    }
   ],
   "source": [
    "!kaggle datasets list -s \"cristiano ronaldo vs lionel messi\""
   ]
  },
  {
   "cell_type": "code",
   "execution_count": 3,
   "id": "d9c2e7b2",
   "metadata": {},
   "outputs": [
    {
     "name": "stdout",
     "output_type": "stream",
     "text": [
      "Downloading cristiano-ronald-vs-lionel-messi-weekly-updated.zip to C:\\Users\\User"
     ]
    },
    {
     "name": "stderr",
     "output_type": "stream",
     "text": [
      "\n",
      "  0%|          | 0.00/15.2k [00:00<?, ?B/s]\n",
      "100%|##########| 15.2k/15.2k [00:00<00:00, 3.11MB/s]\n"
     ]
    },
    {
     "name": "stdout",
     "output_type": "stream",
     "text": [
      "\n",
      "\n"
     ]
    }
   ],
   "source": [
    "!kaggle datasets download ahmedterry/cristiano-ronald-vs-lionel-messi-weekly-updated"
   ]
  },
  {
   "cell_type": "code",
   "execution_count": 11,
   "id": "252cd7a9",
   "metadata": {},
   "outputs": [
    {
     "name": "stderr",
     "output_type": "stream",
     "text": [
      "'unzip' is not recognized as an internal or external command,\n",
      "operable program or batch file.\n"
     ]
    }
   ],
   "source": [
    "!unzip cristiano-ronald-vs-lionel-messi-weekly-updated.zip"
   ]
  },
  {
   "cell_type": "code",
   "execution_count": 12,
   "id": "f1072782",
   "metadata": {},
   "outputs": [
    {
     "name": "stdout",
     "output_type": "stream",
     "text": [
      "ref                                                   title                                            size  lastUpdated          downloadCount  voteCount  usabilityRating  \n",
      "----------------------------------------------------  ---------------------------------------------  ------  -------------------  -------------  ---------  ---------------  \n",
      "arpitjain007/game-of-deep-learning-ship-datasets      Game of Deep Learning: Ship datasets             81MB  2019-05-24 18:37:16           2279         57  0.7647059        \n",
      "canerbaloglu/ship-images-dataset                      Ship Images Dataset                              76MB  2020-12-19 10:02:48             46          1  0.5625           \n",
      "rhammell/ships-in-satellite-imagery                   Ships in Satellite Imagery                      185MB  2018-07-29 22:42:12          11662        370  0.8125           \n",
      "felixzhao/productdemandforecasting                    Forecasts for Product Demand                      5MB  2017-08-25 02:42:57          11314        264  0.88235295       \n",
      "rohitsahoo/sales-forecasting                          Superstore Sales Dataset                        480KB  2020-09-11 15:40:14           7270         94  1.0              \n",
      "apollo2506/satellite-imagery-of-ships                 Satellite Imagery of Ships                       46MB  2020-08-29 18:56:45            157          8  0.8125           \n",
      "jr2ngb/superstore-data                                superstore_data                                   3MB  2019-01-30 06:49:17           9052        114  0.5294118        \n",
      "bravehart101/sample-supermarket-dataset               Sample Superstore Dataset                       164KB  2020-07-17 07:52:46           2000         31  0.9411765        \n",
      "iafoss/rotating-bounding-boxes-for-ship-localization  Rotating Bounding Boxes for Ship Localization    15MB  2018-09-11 03:57:37            116          7  0.7058824        \n",
      "andrewmvd/ship-detection                              Ship Detection from Aerial Images               122MB  2020-06-02 10:30:15            367         29  0.875            \n",
      "cwiloc/climate-data-from-ocean-ships                  Ocean Ship Logbooks (1750-1850)                  19MB  2017-11-16 00:59:48           3638        104  0.64705884       \n",
      "gasgallo/masati-shipdetection                         MASATI_shipDetection                              4GB  2018-08-22 06:51:35            377         22  0.375            \n",
      "juhi1994/superstore                                   US Superstore data                             1002KB  2019-11-21 08:58:22           4065         51  0.47058824       \n",
      "saurabhbagchi/ship-and-iceberg-images                 Ship and Iceberg Images                         404MB  2021-01-24 16:16:34             73          8  0.875            \n",
      "clorichel/boat-types-recognition                      Boat types recognition                          842MB  2018-11-17 20:55:43           4486        154  0.75             \n",
      "swaroopkml/cifar10-pngs-in-folders                    CIFAR-10 PNGs in folders                        280MB  2019-02-10 11:16:19           3330         48  0.6875           \n",
      "fehmifratpolat/sales-data                             Sales Data                                        2MB  2020-09-28 09:25:23            464         20  0.4117647        \n",
      "shashwatwork/ecommerce-data                           E-Commerce Data                                   2MB  2020-08-16 16:01:19            447          8  0.5294118        \n",
      "guofeng/hrsc2016                                      HRSC2016                                          7GB  2018-08-23 01:29:55           2949         26  0.625            \n",
      "shekpaul/global-superstore                            Global Superstore                                 6MB  2020-07-16 09:40:29           1968         24  0.3529412        \n"
     ]
    }
   ],
   "source": [
    "!kaggle datasets list -s \"Game of Deep Learning: Ship datasets\""
   ]
  },
  {
   "cell_type": "code",
   "execution_count": 14,
   "id": "8d165442",
   "metadata": {},
   "outputs": [
    {
     "name": "stdout",
     "output_type": "stream",
     "text": [
      "game-of-deep-learning-ship-datasets.zip: Skipping, found more recently modified local copy (use --force to force download)\n"
     ]
    }
   ],
   "source": [
    "!kaggle datasets download arpitjain007/game-of-deep-learning-ship-datasets"
   ]
  },
  {
   "cell_type": "code",
   "execution_count": null,
   "id": "4c370a95",
   "metadata": {},
   "outputs": [],
   "source": []
  }
 ],
 "metadata": {
  "kernelspec": {
   "display_name": "Python 3 (ipykernel)",
   "language": "python",
   "name": "python3"
  },
  "language_info": {
   "codemirror_mode": {
    "name": "ipython",
    "version": 3
   },
   "file_extension": ".py",
   "mimetype": "text/x-python",
   "name": "python",
   "nbconvert_exporter": "python",
   "pygments_lexer": "ipython3",
   "version": "3.9.7"
  }
 },
 "nbformat": 4,
 "nbformat_minor": 5
}
